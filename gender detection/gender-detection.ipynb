{
 "cells": [
  {
   "cell_type": "code",
   "execution_count": 1,
   "metadata": {},
   "outputs": [],
   "source": [
    "import cv2\n",
    "import dlib\n",
    "import numpy as np\n",
    "\n",
    "# Load the pre-trained face detector from dlib\n",
    "face_detector = dlib.get_frontal_face_detector()\n",
    "\n",
    "# Load the pre-trained facial landmarks predictor from dlib\n",
    "landmark_predictor = dlib.shape_predictor('shape_predictor_68_face_landmarks.dat')\n",
    "\n",
    "# Load the pre-trained gender classification model\n",
    "gender_model = cv2.dnn.readNetFromCaffe('deploy_gender.prototxt', 'gender_net.caffemodel')\n",
    "\n",
    "def detect_gender(image_path):\n",
    "    # Load the image\n",
    "    image = cv2.imread(image_path)\n",
    "\n",
    "    # Convert the image to RGB\n",
    "    rgb_image = cv2.cvtColor(image, cv2.COLOR_BGR2RGB)\n",
    "\n",
    "    # Convert the RGB image to grayscale\n",
    "    gray = cv2.cvtColor(rgb_image, cv2.COLOR_RGB2GRAY)\n",
    "\n",
    "    # Detect faces in the grayscale image\n",
    "    faces = face_detector(gray)\n",
    "\n",
    "    for face in faces:\n",
    "        # Extract the region of interest (face) from the RGB image\n",
    "        face_roi = rgb_image[face.top():face.bottom(), face.left():face.right()]\n",
    "\n",
    "        # Preprocess the face ROI for gender classification\n",
    "        face_blob = cv2.dnn.blobFromImage(face_roi, 1.0, (227, 227), (78.4263377603, 87.7689143744, 114.895847746), swapRB=False)\n",
    "\n",
    "        # Set the blob as input to the gender classification model\n",
    "        gender_model.setInput(face_blob)\n",
    "\n",
    "        # Perform forward pass to get the predicted gender\n",
    "        gender_preds = gender_model.forward()\n",
    "\n",
    "        # Get the gender label (either 'Male' or 'Female')\n",
    "        gender_label = 'Male' if gender_preds[0][0] > gender_preds[0][1] else 'Female'\n",
    "\n",
    "        # Draw bounding box and gender label on the image\n",
    "        cv2.rectangle(image, (face.left(), face.top()), (face.right(), face.bottom()), (0, 255, 0), 2)\n",
    "        # add text to the image\n",
    "        cv2.putText(image, gender_label, (face.left(), face.top() - 10), cv2.FONT_HERSHEY_SIMPLEX, 0.9, (0, 255, 0), 2)\n",
    "    return image\n",
    "\n",
    "# loop through all the images\n",
    "for i in range(1, 3):\n",
    "    # Call the gender detection function\n",
    "    image = detect_gender(f'image{i}.jpg')\n",
    "    # Display the output image\n",
    "    cv2.imshow(\"Detect Image\", image)\n",
    "    # keep the window open until we press a key\n",
    "    cv2.waitKey(0)\n",
    "cv2.destroyAllWindows()"
   ]
  },
  {
   "cell_type": "code",
   "execution_count": null,
   "metadata": {},
   "outputs": [],
   "source": []
  }
 ],
 "metadata": {
  "kernelspec": {
   "display_name": "Python 3",
   "language": "python",
   "name": "python3"
  },
  "language_info": {
   "codemirror_mode": {
    "name": "ipython",
    "version": 3
   },
   "file_extension": ".py",
   "mimetype": "text/x-python",
   "name": "python",
   "nbconvert_exporter": "python",
   "pygments_lexer": "ipython3",
   "version": "3.10.2"
  },
  "orig_nbformat": 4
 },
 "nbformat": 4,
 "nbformat_minor": 2
}
